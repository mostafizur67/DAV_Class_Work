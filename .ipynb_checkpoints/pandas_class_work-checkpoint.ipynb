{
 "cells": [
  {
   "cell_type": "code",
   "execution_count": 3,
   "metadata": {
    "colab": {
     "base_uri": "https://localhost:8080/"
    },
    "id": "th5Vj5gvpHj5",
    "outputId": "370900ce-621a-46cd-be49-6769038e163f"
   },
   "outputs": [
    {
     "name": "stdout",
     "output_type": "stream",
     "text": [
      "Dataset saved to 'sample_dataset_pandas.csv'\n"
     ]
    }
   ],
   "source": [
    "import pandas as pd\n",
    "import os\n",
    "import random\n",
    "import numpy as np\n",
    "\n",
    "# Generate random data with missing values\n",
    "data = {\n",
    "    'Id': [i+1 for i in range(500)],\n",
    "    'Gender': [random.choice(['M', 'F', np.nan]) for _ in range(500)],\n",
    "    'Age': [random.randint(18, 65) if random.random() > 0.1 else np.nan for _ in range(500)],\n",
    "    'Income': [random.randint(20000, 150000) if random.random() > 0.2 else np.nan for _ in range(500)],\n",
    "    'Height': [random.uniform(150, 190) if random.random() > 0.1 else np.nan for _ in range(500)],\n",
    "    'Weight': [random.uniform(50, 100) if random.random() > 0.1 else np.nan for _ in range(500)]\n",
    "}\n",
    "\n",
    "# Create a DataFrame\n",
    "df = pd.DataFrame(data)\n",
    "\n",
    "# Save DataFrame to a CSV file\n",
    "output_folder_path = '/Users/mrahman-admin/Desktop/Data_Analytics_Visualization/DAV_Code'\n",
    "output_file = os.path.join(output_folder_path, 'sample_dataset_pandas.csv')\n",
    "df.to_csv(output_file, index=False)\n",
    "\n",
    "print(\"Dataset saved to 'sample_dataset_pandas.csv'\")"
   ]
  },
  {
   "cell_type": "code",
   "execution_count": 4,
   "metadata": {
    "id": "yCfX05LNuj93"
   },
   "outputs": [
    {
     "data": {
      "text/html": [
       "<div>\n",
       "<style scoped>\n",
       "    .dataframe tbody tr th:only-of-type {\n",
       "        vertical-align: middle;\n",
       "    }\n",
       "\n",
       "    .dataframe tbody tr th {\n",
       "        vertical-align: top;\n",
       "    }\n",
       "\n",
       "    .dataframe thead th {\n",
       "        text-align: right;\n",
       "    }\n",
       "</style>\n",
       "<table border=\"1\" class=\"dataframe\">\n",
       "  <thead>\n",
       "    <tr style=\"text-align: right;\">\n",
       "      <th></th>\n",
       "      <th>Id</th>\n",
       "      <th>Gender</th>\n",
       "      <th>Age</th>\n",
       "      <th>Income</th>\n",
       "      <th>Height</th>\n",
       "      <th>Weight</th>\n",
       "    </tr>\n",
       "  </thead>\n",
       "  <tbody>\n",
       "    <tr>\n",
       "      <th>0</th>\n",
       "      <td>1</td>\n",
       "      <td>M</td>\n",
       "      <td>64.0</td>\n",
       "      <td>24141.0</td>\n",
       "      <td>NaN</td>\n",
       "      <td>91.026092</td>\n",
       "    </tr>\n",
       "    <tr>\n",
       "      <th>1</th>\n",
       "      <td>2</td>\n",
       "      <td>F</td>\n",
       "      <td>18.0</td>\n",
       "      <td>82523.0</td>\n",
       "      <td>189.533369</td>\n",
       "      <td>72.400692</td>\n",
       "    </tr>\n",
       "    <tr>\n",
       "      <th>2</th>\n",
       "      <td>3</td>\n",
       "      <td>NaN</td>\n",
       "      <td>40.0</td>\n",
       "      <td>37928.0</td>\n",
       "      <td>153.884926</td>\n",
       "      <td>90.153410</td>\n",
       "    </tr>\n",
       "    <tr>\n",
       "      <th>3</th>\n",
       "      <td>4</td>\n",
       "      <td>F</td>\n",
       "      <td>47.0</td>\n",
       "      <td>83622.0</td>\n",
       "      <td>189.395822</td>\n",
       "      <td>63.506353</td>\n",
       "    </tr>\n",
       "    <tr>\n",
       "      <th>4</th>\n",
       "      <td>5</td>\n",
       "      <td>M</td>\n",
       "      <td>43.0</td>\n",
       "      <td>120475.0</td>\n",
       "      <td>155.234732</td>\n",
       "      <td>85.101889</td>\n",
       "    </tr>\n",
       "    <tr>\n",
       "      <th>...</th>\n",
       "      <td>...</td>\n",
       "      <td>...</td>\n",
       "      <td>...</td>\n",
       "      <td>...</td>\n",
       "      <td>...</td>\n",
       "      <td>...</td>\n",
       "    </tr>\n",
       "    <tr>\n",
       "      <th>495</th>\n",
       "      <td>496</td>\n",
       "      <td>M</td>\n",
       "      <td>52.0</td>\n",
       "      <td>143234.0</td>\n",
       "      <td>156.044812</td>\n",
       "      <td>66.805198</td>\n",
       "    </tr>\n",
       "    <tr>\n",
       "      <th>496</th>\n",
       "      <td>497</td>\n",
       "      <td>M</td>\n",
       "      <td>NaN</td>\n",
       "      <td>56023.0</td>\n",
       "      <td>159.155331</td>\n",
       "      <td>80.400186</td>\n",
       "    </tr>\n",
       "    <tr>\n",
       "      <th>497</th>\n",
       "      <td>498</td>\n",
       "      <td>NaN</td>\n",
       "      <td>44.0</td>\n",
       "      <td>45923.0</td>\n",
       "      <td>180.344630</td>\n",
       "      <td>63.905775</td>\n",
       "    </tr>\n",
       "    <tr>\n",
       "      <th>498</th>\n",
       "      <td>499</td>\n",
       "      <td>F</td>\n",
       "      <td>40.0</td>\n",
       "      <td>72164.0</td>\n",
       "      <td>151.121012</td>\n",
       "      <td>NaN</td>\n",
       "    </tr>\n",
       "    <tr>\n",
       "      <th>499</th>\n",
       "      <td>500</td>\n",
       "      <td>NaN</td>\n",
       "      <td>42.0</td>\n",
       "      <td>NaN</td>\n",
       "      <td>170.127901</td>\n",
       "      <td>51.950306</td>\n",
       "    </tr>\n",
       "  </tbody>\n",
       "</table>\n",
       "<p>500 rows × 6 columns</p>\n",
       "</div>"
      ],
      "text/plain": [
       "      Id Gender   Age    Income      Height     Weight\n",
       "0      1      M  64.0   24141.0         NaN  91.026092\n",
       "1      2      F  18.0   82523.0  189.533369  72.400692\n",
       "2      3    NaN  40.0   37928.0  153.884926  90.153410\n",
       "3      4      F  47.0   83622.0  189.395822  63.506353\n",
       "4      5      M  43.0  120475.0  155.234732  85.101889\n",
       "..   ...    ...   ...       ...         ...        ...\n",
       "495  496      M  52.0  143234.0  156.044812  66.805198\n",
       "496  497      M   NaN   56023.0  159.155331  80.400186\n",
       "497  498    NaN  44.0   45923.0  180.344630  63.905775\n",
       "498  499      F  40.0   72164.0  151.121012        NaN\n",
       "499  500    NaN  42.0       NaN  170.127901  51.950306\n",
       "\n",
       "[500 rows x 6 columns]"
      ]
     },
     "execution_count": 4,
     "metadata": {},
     "output_type": "execute_result"
    }
   ],
   "source": [
    "# Read CSV data\n",
    "pd.read_csv(output_file)"
   ]
  },
  {
   "cell_type": "code",
   "execution_count": 5,
   "metadata": {
    "id": "DG6xhzqgyHmW"
   },
   "outputs": [],
   "source": [
    "# Read CSV data into a DataFrame\n",
    "df = pd.read_csv(output_file)"
   ]
  },
  {
   "cell_type": "code",
   "execution_count": 6,
   "metadata": {
    "id": "pLKxE2nhyYda"
   },
   "outputs": [
    {
     "data": {
      "text/html": [
       "<div>\n",
       "<style scoped>\n",
       "    .dataframe tbody tr th:only-of-type {\n",
       "        vertical-align: middle;\n",
       "    }\n",
       "\n",
       "    .dataframe tbody tr th {\n",
       "        vertical-align: top;\n",
       "    }\n",
       "\n",
       "    .dataframe thead th {\n",
       "        text-align: right;\n",
       "    }\n",
       "</style>\n",
       "<table border=\"1\" class=\"dataframe\">\n",
       "  <thead>\n",
       "    <tr style=\"text-align: right;\">\n",
       "      <th></th>\n",
       "      <th>Id</th>\n",
       "      <th>Gender</th>\n",
       "      <th>Age</th>\n",
       "      <th>Income</th>\n",
       "      <th>Height</th>\n",
       "      <th>Weight</th>\n",
       "    </tr>\n",
       "  </thead>\n",
       "  <tbody>\n",
       "    <tr>\n",
       "      <th>0</th>\n",
       "      <td>1</td>\n",
       "      <td>M</td>\n",
       "      <td>64.0</td>\n",
       "      <td>24141.0</td>\n",
       "      <td>NaN</td>\n",
       "      <td>91.026092</td>\n",
       "    </tr>\n",
       "    <tr>\n",
       "      <th>1</th>\n",
       "      <td>2</td>\n",
       "      <td>F</td>\n",
       "      <td>18.0</td>\n",
       "      <td>82523.0</td>\n",
       "      <td>189.533369</td>\n",
       "      <td>72.400692</td>\n",
       "    </tr>\n",
       "    <tr>\n",
       "      <th>2</th>\n",
       "      <td>3</td>\n",
       "      <td>NaN</td>\n",
       "      <td>40.0</td>\n",
       "      <td>37928.0</td>\n",
       "      <td>153.884926</td>\n",
       "      <td>90.153410</td>\n",
       "    </tr>\n",
       "    <tr>\n",
       "      <th>3</th>\n",
       "      <td>4</td>\n",
       "      <td>F</td>\n",
       "      <td>47.0</td>\n",
       "      <td>83622.0</td>\n",
       "      <td>189.395822</td>\n",
       "      <td>63.506353</td>\n",
       "    </tr>\n",
       "    <tr>\n",
       "      <th>4</th>\n",
       "      <td>5</td>\n",
       "      <td>M</td>\n",
       "      <td>43.0</td>\n",
       "      <td>120475.0</td>\n",
       "      <td>155.234732</td>\n",
       "      <td>85.101889</td>\n",
       "    </tr>\n",
       "    <tr>\n",
       "      <th>...</th>\n",
       "      <td>...</td>\n",
       "      <td>...</td>\n",
       "      <td>...</td>\n",
       "      <td>...</td>\n",
       "      <td>...</td>\n",
       "      <td>...</td>\n",
       "    </tr>\n",
       "    <tr>\n",
       "      <th>495</th>\n",
       "      <td>496</td>\n",
       "      <td>M</td>\n",
       "      <td>52.0</td>\n",
       "      <td>143234.0</td>\n",
       "      <td>156.044812</td>\n",
       "      <td>66.805198</td>\n",
       "    </tr>\n",
       "    <tr>\n",
       "      <th>496</th>\n",
       "      <td>497</td>\n",
       "      <td>M</td>\n",
       "      <td>NaN</td>\n",
       "      <td>56023.0</td>\n",
       "      <td>159.155331</td>\n",
       "      <td>80.400186</td>\n",
       "    </tr>\n",
       "    <tr>\n",
       "      <th>497</th>\n",
       "      <td>498</td>\n",
       "      <td>NaN</td>\n",
       "      <td>44.0</td>\n",
       "      <td>45923.0</td>\n",
       "      <td>180.344630</td>\n",
       "      <td>63.905775</td>\n",
       "    </tr>\n",
       "    <tr>\n",
       "      <th>498</th>\n",
       "      <td>499</td>\n",
       "      <td>F</td>\n",
       "      <td>40.0</td>\n",
       "      <td>72164.0</td>\n",
       "      <td>151.121012</td>\n",
       "      <td>NaN</td>\n",
       "    </tr>\n",
       "    <tr>\n",
       "      <th>499</th>\n",
       "      <td>500</td>\n",
       "      <td>NaN</td>\n",
       "      <td>42.0</td>\n",
       "      <td>NaN</td>\n",
       "      <td>170.127901</td>\n",
       "      <td>51.950306</td>\n",
       "    </tr>\n",
       "  </tbody>\n",
       "</table>\n",
       "<p>500 rows × 6 columns</p>\n",
       "</div>"
      ],
      "text/plain": [
       "      Id Gender   Age    Income      Height     Weight\n",
       "0      1      M  64.0   24141.0         NaN  91.026092\n",
       "1      2      F  18.0   82523.0  189.533369  72.400692\n",
       "2      3    NaN  40.0   37928.0  153.884926  90.153410\n",
       "3      4      F  47.0   83622.0  189.395822  63.506353\n",
       "4      5      M  43.0  120475.0  155.234732  85.101889\n",
       "..   ...    ...   ...       ...         ...        ...\n",
       "495  496      M  52.0  143234.0  156.044812  66.805198\n",
       "496  497      M   NaN   56023.0  159.155331  80.400186\n",
       "497  498    NaN  44.0   45923.0  180.344630  63.905775\n",
       "498  499      F  40.0   72164.0  151.121012        NaN\n",
       "499  500    NaN  42.0       NaN  170.127901  51.950306\n",
       "\n",
       "[500 rows x 6 columns]"
      ]
     },
     "execution_count": 6,
     "metadata": {},
     "output_type": "execute_result"
    }
   ],
   "source": [
    "df"
   ]
  },
  {
   "cell_type": "code",
   "execution_count": 7,
   "metadata": {
    "id": "Z5BuGLcCyaUD"
   },
   "outputs": [
    {
     "data": {
      "text/html": [
       "<div>\n",
       "<style scoped>\n",
       "    .dataframe tbody tr th:only-of-type {\n",
       "        vertical-align: middle;\n",
       "    }\n",
       "\n",
       "    .dataframe tbody tr th {\n",
       "        vertical-align: top;\n",
       "    }\n",
       "\n",
       "    .dataframe thead th {\n",
       "        text-align: right;\n",
       "    }\n",
       "</style>\n",
       "<table border=\"1\" class=\"dataframe\">\n",
       "  <thead>\n",
       "    <tr style=\"text-align: right;\">\n",
       "      <th></th>\n",
       "      <th>Id</th>\n",
       "      <th>Gender</th>\n",
       "      <th>Age</th>\n",
       "      <th>Income</th>\n",
       "      <th>Height</th>\n",
       "      <th>Weight</th>\n",
       "    </tr>\n",
       "  </thead>\n",
       "  <tbody>\n",
       "    <tr>\n",
       "      <th>0</th>\n",
       "      <td>1</td>\n",
       "      <td>M</td>\n",
       "      <td>64.0</td>\n",
       "      <td>24141.0</td>\n",
       "      <td>NaN</td>\n",
       "      <td>91.026092</td>\n",
       "    </tr>\n",
       "    <tr>\n",
       "      <th>1</th>\n",
       "      <td>2</td>\n",
       "      <td>F</td>\n",
       "      <td>18.0</td>\n",
       "      <td>82523.0</td>\n",
       "      <td>189.533369</td>\n",
       "      <td>72.400692</td>\n",
       "    </tr>\n",
       "    <tr>\n",
       "      <th>2</th>\n",
       "      <td>3</td>\n",
       "      <td>NaN</td>\n",
       "      <td>40.0</td>\n",
       "      <td>37928.0</td>\n",
       "      <td>153.884926</td>\n",
       "      <td>90.153410</td>\n",
       "    </tr>\n",
       "    <tr>\n",
       "      <th>3</th>\n",
       "      <td>4</td>\n",
       "      <td>F</td>\n",
       "      <td>47.0</td>\n",
       "      <td>83622.0</td>\n",
       "      <td>189.395822</td>\n",
       "      <td>63.506353</td>\n",
       "    </tr>\n",
       "    <tr>\n",
       "      <th>4</th>\n",
       "      <td>5</td>\n",
       "      <td>M</td>\n",
       "      <td>43.0</td>\n",
       "      <td>120475.0</td>\n",
       "      <td>155.234732</td>\n",
       "      <td>85.101889</td>\n",
       "    </tr>\n",
       "  </tbody>\n",
       "</table>\n",
       "</div>"
      ],
      "text/plain": [
       "   Id Gender   Age    Income      Height     Weight\n",
       "0   1      M  64.0   24141.0         NaN  91.026092\n",
       "1   2      F  18.0   82523.0  189.533369  72.400692\n",
       "2   3    NaN  40.0   37928.0  153.884926  90.153410\n",
       "3   4      F  47.0   83622.0  189.395822  63.506353\n",
       "4   5      M  43.0  120475.0  155.234732  85.101889"
      ]
     },
     "execution_count": 7,
     "metadata": {},
     "output_type": "execute_result"
    }
   ],
   "source": [
    "df.head()"
   ]
  },
  {
   "cell_type": "code",
   "execution_count": 8,
   "metadata": {
    "id": "JYKU2PCNzNKF"
   },
   "outputs": [
    {
     "data": {
      "text/plain": [
       "pandas.core.frame.DataFrame"
      ]
     },
     "execution_count": 8,
     "metadata": {},
     "output_type": "execute_result"
    }
   ],
   "source": [
    "type(df)"
   ]
  },
  {
   "cell_type": "code",
   "execution_count": 9,
   "metadata": {
    "id": "S8LCGmBJzwjh"
   },
   "outputs": [
    {
     "data": {
      "text/plain": [
       "Id          int64\n",
       "Gender     object\n",
       "Age       float64\n",
       "Income    float64\n",
       "Height    float64\n",
       "Weight    float64\n",
       "dtype: object"
      ]
     },
     "execution_count": 9,
     "metadata": {},
     "output_type": "execute_result"
    }
   ],
   "source": [
    "df.dtypes"
   ]
  },
  {
   "cell_type": "code",
   "execution_count": 10,
   "metadata": {
    "id": "qCdiehOT2IZr"
   },
   "outputs": [
    {
     "name": "stdout",
     "output_type": "stream",
     "text": [
      "(500, 6)\n"
     ]
    }
   ],
   "source": [
    "# Get the shape of the DataFrame (attribute)\n",
    "shape = df.shape\n",
    "print(shape)  # Output: (rows, columns)"
   ]
  },
  {
   "cell_type": "code",
   "execution_count": null,
   "metadata": {
    "colab": {
     "base_uri": "https://localhost:8080/"
    },
    "id": "TF6zal1y2exI",
    "outputId": "9cfd80a7-b8a3-4de3-f9da-557d9d33eb8f"
   },
   "outputs": [
    {
     "name": "stdout",
     "output_type": "stream",
     "text": [
      "   Id Gender   Age   Income      Height     Weight\n",
      "0   1    NaN  24.0      NaN  175.805779  61.755954\n",
      "1   2      F  34.0      NaN  188.569329  84.089073\n",
      "2   3      F  29.0  91758.0         NaN        NaN\n"
     ]
    }
   ],
   "source": [
    "# Display the first 5 rows using the head method\n",
    "first_rows = df.head(3)\n",
    "print(first_rows)"
   ]
  },
  {
   "cell_type": "code",
   "execution_count": 11,
   "metadata": {
    "id": "ngNrBQ3F4wOR"
   },
   "outputs": [
    {
     "name": "stdout",
     "output_type": "stream",
     "text": [
      "               Id         Age         Income      Height      Weight\n",
      "count  500.000000  452.000000     396.000000  453.000000  458.000000\n",
      "mean   250.500000   41.856195   86108.492424  169.529216   75.025116\n",
      "std    144.481833   13.940613   36654.922564   10.878351   14.774209\n",
      "min      1.000000   18.000000   20045.000000  150.015783   50.295231\n",
      "25%    125.750000   29.000000   57367.000000  160.017565   61.837609\n",
      "50%    250.500000   42.000000   88871.000000  169.635492   75.331686\n",
      "75%    375.250000   53.250000  116668.000000  178.288046   88.464562\n",
      "max    500.000000   65.000000  149846.000000  189.968273   99.954461\n"
     ]
    }
   ],
   "source": [
    "summary = df.describe()\n",
    "print(summary)"
   ]
  },
  {
   "cell_type": "code",
   "execution_count": 12,
   "metadata": {
    "colab": {
     "base_uri": "https://localhost:8080/"
    },
    "id": "IDRQKoS-7a8u",
    "outputId": "c1909881-7681-406a-c222-b4614cced5b0"
   },
   "outputs": [
    {
     "data": {
      "text/plain": [
       "array(['M', 'F', nan], dtype=object)"
      ]
     },
     "execution_count": 12,
     "metadata": {},
     "output_type": "execute_result"
    }
   ],
   "source": [
    "pd.unique(df['Gender'])"
   ]
  },
  {
   "cell_type": "code",
   "execution_count": 13,
   "metadata": {
    "colab": {
     "base_uri": "https://localhost:8080/"
    },
    "id": "A3-ukRag71je",
    "outputId": "5a36558e-0778-4a0d-81b6-de02d00ea59f"
   },
   "outputs": [
    {
     "data": {
      "text/plain": [
       "49"
      ]
     },
     "execution_count": 13,
     "metadata": {},
     "output_type": "execute_result"
    }
   ],
   "source": [
    "age_list = pd.unique(df['Age'])\n",
    "len(age_list)"
   ]
  },
  {
   "cell_type": "code",
   "execution_count": 14,
   "metadata": {
    "colab": {
     "base_uri": "https://localhost:8080/"
    },
    "id": "ee5jCEwE8Xwy",
    "outputId": "0be2de22-8eed-4937-b6be-8c5be8f9892a"
   },
   "outputs": [
    {
     "data": {
      "text/plain": [
       "500"
      ]
     },
     "execution_count": 14,
     "metadata": {},
     "output_type": "execute_result"
    }
   ],
   "source": [
    "df['Id'].nunique()"
   ]
  },
  {
   "cell_type": "code",
   "execution_count": 15,
   "metadata": {
    "id": "wzcko7H19w9_"
   },
   "outputs": [
    {
     "name": "stdout",
     "output_type": "stream",
     "text": [
      "<class 'pandas.core.frame.DataFrame'>\n",
      "RangeIndex: 500 entries, 0 to 499\n",
      "Data columns (total 6 columns):\n",
      " #   Column  Non-Null Count  Dtype  \n",
      "---  ------  --------------  -----  \n",
      " 0   Id      500 non-null    int64  \n",
      " 1   Gender  335 non-null    object \n",
      " 2   Age     452 non-null    float64\n",
      " 3   Income  396 non-null    float64\n",
      " 4   Height  453 non-null    float64\n",
      " 5   Weight  458 non-null    float64\n",
      "dtypes: float64(4), int64(1), object(1)\n",
      "memory usage: 23.6+ KB\n",
      "None\n"
     ]
    }
   ],
   "source": [
    "info = df.info()\n",
    "print(info)"
   ]
  },
  {
   "cell_type": "code",
   "execution_count": 16,
   "metadata": {
    "id": "qSIMdwbkB5Ka"
   },
   "outputs": [
    {
     "name": "stdout",
     "output_type": "stream",
     "text": [
      "Age Standard Deviation: 13.94061308723697\n"
     ]
    }
   ],
   "source": [
    "age_std = df['Age'].std()\n",
    "print(\"Age Standard Deviation:\", age_std)"
   ]
  },
  {
   "cell_type": "code",
   "execution_count": 17,
   "metadata": {
    "colab": {
     "base_uri": "https://localhost:8080/"
    },
    "id": "KxEhkcyNCINM",
    "outputId": "0cd08f19-0e8b-4de7-83e0-eb93e430ca9a"
   },
   "outputs": [
    {
     "name": "stdout",
     "output_type": "stream",
     "text": [
      "Gender\n",
      "M    172\n",
      "F    163\n",
      "Name: count, dtype: int64\n"
     ]
    }
   ],
   "source": [
    "gender_counts = df['Gender'].value_counts()\n",
    "print(gender_counts)"
   ]
  },
  {
   "cell_type": "code",
   "execution_count": 18,
   "metadata": {
    "colab": {
     "base_uri": "https://localhost:8080/"
    },
    "id": "yA_-3o7DESR6",
    "outputId": "25cc50a1-12e3-43dd-d2df-7a646cd42059"
   },
   "outputs": [
    {
     "data": {
      "text/plain": [
       "count       396.000000\n",
       "mean      86108.492424\n",
       "std       36654.922564\n",
       "min       20045.000000\n",
       "25%       57367.000000\n",
       "50%       88871.000000\n",
       "75%      116668.000000\n",
       "max      149846.000000\n",
       "Name: Income, dtype: float64"
      ]
     },
     "execution_count": 18,
     "metadata": {},
     "output_type": "execute_result"
    }
   ],
   "source": [
    "df['Income'].describe()"
   ]
  },
  {
   "cell_type": "code",
   "execution_count": 19,
   "metadata": {
    "colab": {
     "base_uri": "https://localhost:8080/"
    },
    "id": "JskejhwvFPg9",
    "outputId": "1cd62961-a48d-44b6-a6f3-b818301590f2"
   },
   "outputs": [
    {
     "data": {
      "text/plain": [
       "149846.0"
      ]
     },
     "execution_count": 19,
     "metadata": {},
     "output_type": "execute_result"
    }
   ],
   "source": [
    "df['Income'].max()"
   ]
  },
  {
   "cell_type": "code",
   "execution_count": 20,
   "metadata": {
    "colab": {
     "base_uri": "https://localhost:8080/",
     "height": 143
    },
    "id": "mq6goX5oGjf1",
    "outputId": "2b3289c7-8588-417a-dcee-f4bc17199bdd"
   },
   "outputs": [
    {
     "data": {
      "text/html": [
       "<div>\n",
       "<style scoped>\n",
       "    .dataframe tbody tr th:only-of-type {\n",
       "        vertical-align: middle;\n",
       "    }\n",
       "\n",
       "    .dataframe tbody tr th {\n",
       "        vertical-align: top;\n",
       "    }\n",
       "\n",
       "    .dataframe thead th {\n",
       "        text-align: right;\n",
       "    }\n",
       "</style>\n",
       "<table border=\"1\" class=\"dataframe\">\n",
       "  <thead>\n",
       "    <tr style=\"text-align: right;\">\n",
       "      <th></th>\n",
       "      <th>Id</th>\n",
       "      <th>Age</th>\n",
       "      <th>Income</th>\n",
       "      <th>Height</th>\n",
       "      <th>Weight</th>\n",
       "    </tr>\n",
       "    <tr>\n",
       "      <th>Gender</th>\n",
       "      <th></th>\n",
       "      <th></th>\n",
       "      <th></th>\n",
       "      <th></th>\n",
       "      <th></th>\n",
       "    </tr>\n",
       "  </thead>\n",
       "  <tbody>\n",
       "    <tr>\n",
       "      <th>F</th>\n",
       "      <td>251.601227</td>\n",
       "      <td>42.506667</td>\n",
       "      <td>87623.476562</td>\n",
       "      <td>169.792936</td>\n",
       "      <td>73.881011</td>\n",
       "    </tr>\n",
       "    <tr>\n",
       "      <th>M</th>\n",
       "      <td>250.156977</td>\n",
       "      <td>42.487179</td>\n",
       "      <td>84219.478261</td>\n",
       "      <td>169.595148</td>\n",
       "      <td>74.700558</td>\n",
       "    </tr>\n",
       "  </tbody>\n",
       "</table>\n",
       "</div>"
      ],
      "text/plain": [
       "                Id        Age        Income      Height     Weight\n",
       "Gender                                                            \n",
       "F       251.601227  42.506667  87623.476562  169.792936  73.881011\n",
       "M       250.156977  42.487179  84219.478261  169.595148  74.700558"
      ]
     },
     "execution_count": 20,
     "metadata": {},
     "output_type": "execute_result"
    }
   ],
   "source": [
    "# Group data by sex\n",
    "grouped_data = df.groupby('Gender')\n",
    "\n",
    "# Provide the mean for each numeric column by sex\n",
    "grouped_data.mean(numeric_only=True)\n"
   ]
  },
  {
   "cell_type": "code",
   "execution_count": 21,
   "metadata": {
    "colab": {
     "base_uri": "https://localhost:8080/"
    },
    "id": "1uDwPvBzI7oc",
    "outputId": "4828a33e-cd04-4e82-91d7-22ff9a2bf04c"
   },
   "outputs": [
    {
     "data": {
      "text/plain": [
       "0      182.052185\n",
       "1      144.801384\n",
       "2      180.306819\n",
       "3      127.012705\n",
       "4      170.203778\n",
       "          ...    \n",
       "495    133.610396\n",
       "496    160.800372\n",
       "497    127.811550\n",
       "498           NaN\n",
       "499    103.900612\n",
       "Name: Weight, Length: 500, dtype: float64"
      ]
     },
     "execution_count": 21,
     "metadata": {},
     "output_type": "execute_result"
    }
   ],
   "source": [
    "# Multiply all weight values by 2\n",
    "df['Weight']*2"
   ]
  },
  {
   "cell_type": "code",
   "execution_count": 22,
   "metadata": {
    "colab": {
     "base_uri": "https://localhost:8080/"
    },
    "id": "N_sQyp5xtgcm",
    "outputId": "782d24f1-04a0-4231-ae7b-ceff13658f0a"
   },
   "outputs": [
    {
     "data": {
      "text/plain": [
       "0        M\n",
       "1        F\n",
       "2      NaN\n",
       "3        F\n",
       "4        M\n",
       "      ... \n",
       "495      M\n",
       "496      M\n",
       "497    NaN\n",
       "498      F\n",
       "499    NaN\n",
       "Name: Gender, Length: 500, dtype: object"
      ]
     },
     "execution_count": 22,
     "metadata": {},
     "output_type": "execute_result"
    }
   ],
   "source": [
    "# Select the 'Gender' column\n",
    "df['Gender']"
   ]
  },
  {
   "cell_type": "code",
   "execution_count": 23,
   "metadata": {
    "colab": {
     "base_uri": "https://localhost:8080/"
    },
    "id": "gCWYEQt7t78s",
    "outputId": "2084f61d-d89e-4819-bd81-5c61570a3b88"
   },
   "outputs": [
    {
     "name": "stdout",
     "output_type": "stream",
     "text": [
      "\n",
      "Selected Age and Income columns:\n",
      "       Age    Income\n",
      "0    64.0   24141.0\n",
      "1    18.0   82523.0\n",
      "2    40.0   37928.0\n",
      "3    47.0   83622.0\n",
      "4    43.0  120475.0\n",
      "..    ...       ...\n",
      "495  52.0  143234.0\n",
      "496   NaN   56023.0\n",
      "497  44.0   45923.0\n",
      "498  40.0   72164.0\n",
      "499  42.0       NaN\n",
      "\n",
      "[500 rows x 2 columns]\n"
     ]
    }
   ],
   "source": [
    "# Select the 'Age' and 'Income' columns\n",
    "age_income_columns = df[['Age', 'Income']]\n",
    "print(\"\\nSelected Age and Income columns:\\n\", age_income_columns)"
   ]
  },
  {
   "cell_type": "code",
   "execution_count": 24,
   "metadata": {
    "colab": {
     "base_uri": "https://localhost:8080/"
    },
    "id": "retiIjtMvcjA",
    "outputId": "dc768830-d613-4009-fc21-03b9d63a6ec4"
   },
   "outputs": [
    {
     "data": {
      "text/plain": [
       "0        M\n",
       "1        F\n",
       "2      NaN\n",
       "3        F\n",
       "4        M\n",
       "      ... \n",
       "495      M\n",
       "496      M\n",
       "497    NaN\n",
       "498      F\n",
       "499    NaN\n",
       "Name: Gender, Length: 500, dtype: object"
      ]
     },
     "execution_count": 24,
     "metadata": {},
     "output_type": "execute_result"
    }
   ],
   "source": [
    "df.Gender"
   ]
  },
  {
   "cell_type": "code",
   "execution_count": 25,
   "metadata": {
    "id": "Iki778mavs6q"
   },
   "outputs": [],
   "source": [
    "age_income_columns = df[['Age', 'Income']]"
   ]
  },
  {
   "cell_type": "code",
   "execution_count": 26,
   "metadata": {
    "colab": {
     "base_uri": "https://localhost:8080/"
    },
    "id": "mteev-ukG1Dv",
    "outputId": "ef8262fb-3a81-40ea-af1c-ed17552752f8"
   },
   "outputs": [
    {
     "name": "stdout",
     "output_type": "stream",
     "text": [
      "Element at index 2: 30\n",
      "Subset from index 2 to 4: [30, 40, 50]\n",
      "First three elements: [10, 20, 30]\n",
      "Last two elements: [70, 80]\n"
     ]
    }
   ],
   "source": [
    "# Sample list\n",
    "my_list = [10, 20, 30, 40, 50, 60, 70, 80]\n",
    "\n",
    "# Getting specific elements\n",
    "element_at_index_2 = my_list[2]\n",
    "print(\"Element at index 2:\", element_at_index_2)\n",
    "\n",
    "# Getting a set of elements\n",
    "subset = my_list[2:5]\n",
    "print(\"Subset from index 2 to 4:\", subset)\n",
    "\n",
    "# Getting first few elements\n",
    "first_three_elements = my_list[:3]\n",
    "print(\"First three elements:\", first_three_elements)\n",
    "\n",
    "# Getting last few elements\n",
    "last_two_elements = my_list[-2:]\n",
    "print(\"Last two elements:\", last_two_elements)\n"
   ]
  },
  {
   "cell_type": "code",
   "execution_count": 27,
   "metadata": {
    "colab": {
     "base_uri": "https://localhost:8080/"
    },
    "id": "Cag85ZIR1vEO",
    "outputId": "dc889e9c-b327-4e8a-f115-e350ffe942ba"
   },
   "outputs": [
    {
     "name": "stdout",
     "output_type": "stream",
     "text": [
      "Sliced Rows and Columns using .loc:\n",
      "   Gender   Age\n",
      "1      F  18.0\n",
      "2    NaN  40.0\n",
      "3      F  47.0\n"
     ]
    }
   ],
   "source": [
    "# Slice rows 1 to 3 and columns 'Gender' and 'Age'\n",
    "sliced_rows_columns_loc = df.loc[1:3, ['Gender', 'Age']]\n",
    "print(\"Sliced Rows and Columns using .loc:\\n\", sliced_rows_columns_loc)"
   ]
  },
  {
   "cell_type": "code",
   "execution_count": 28,
   "metadata": {
    "colab": {
     "base_uri": "https://localhost:8080/"
    },
    "id": "NAK3YGTR2flE",
    "outputId": "28928f9b-0aa6-49fc-f2c3-985a2b6f0d75"
   },
   "outputs": [
    {
     "name": "stdout",
     "output_type": "stream",
     "text": [
      "Sliced Rows and Columns using .iloc:\n",
      "   Gender   Age   Income\n",
      "1      F  18.0  82523.0\n",
      "2    NaN  40.0  37928.0\n",
      "3      F  47.0  83622.0\n"
     ]
    }
   ],
   "source": [
    "# Slice rows 1 to 3 and columns at index 1 to 3\n",
    "sliced_rows_columns_iloc = df.iloc[1:4, 1:4]\n",
    "print(\"Sliced Rows and Columns using .iloc:\\n\", sliced_rows_columns_iloc)"
   ]
  },
  {
   "cell_type": "code",
   "execution_count": 29,
   "metadata": {
    "colab": {
     "base_uri": "https://localhost:8080/"
    },
    "id": "BGKJFMiQ4_SZ",
    "outputId": "29915340-8d2b-44a0-b0a9-9309f9972b35"
   },
   "outputs": [
    {
     "name": "stdout",
     "output_type": "stream",
     "text": [
      "Subset of individuals with age > 25:\n",
      "       Id Gender   Age    Income      Height     Weight\n",
      "0      1      M  64.0   24141.0         NaN  91.026092\n",
      "2      3    NaN  40.0   37928.0  153.884926  90.153410\n",
      "3      4      F  47.0   83622.0  189.395822  63.506353\n",
      "4      5      M  43.0  120475.0  155.234732  85.101889\n",
      "5      6      M  62.0  120535.0  179.602918  76.109803\n",
      "..   ...    ...   ...       ...         ...        ...\n",
      "494  495    NaN  55.0   60864.0  182.079665  71.311427\n",
      "495  496      M  52.0  143234.0  156.044812  66.805198\n",
      "497  498    NaN  44.0   45923.0  180.344630  63.905775\n",
      "498  499      F  40.0   72164.0  151.121012        NaN\n",
      "499  500    NaN  42.0       NaN  170.127901  51.950306\n",
      "\n",
      "[374 rows x 6 columns]\n"
     ]
    }
   ],
   "source": [
    "# Subset data for individuals with age > 25\n",
    "subset_age_gt_25 = df[df['Age'] > 25]\n",
    "print(\"Subset of individuals with age > 25:\\n\", subset_age_gt_25)"
   ]
  },
  {
   "cell_type": "code",
   "execution_count": 30,
   "metadata": {
    "colab": {
     "base_uri": "https://localhost:8080/"
    },
    "id": "4_a9-rcN5dux",
    "outputId": "ee75bf89-20b1-4c89-dfd2-8e27fd74ccfc"
   },
   "outputs": [
    {
     "name": "stdout",
     "output_type": "stream",
     "text": [
      "Subset of individuals with age > 25 and income > 60000:\n",
      "       Id Gender   Age    Income      Height     Weight\n",
      "3      4      F  47.0   83622.0  189.395822  63.506353\n",
      "4      5      M  43.0  120475.0  155.234732  85.101889\n",
      "5      6      M  62.0  120535.0  179.602918  76.109803\n",
      "6      7      M  53.0  145042.0  176.081178        NaN\n",
      "7      8    NaN  61.0   97758.0  154.752066  81.734248\n",
      "..   ...    ...   ...       ...         ...        ...\n",
      "487  488      F  44.0  118330.0  179.536224  88.574138\n",
      "490  491      F  60.0  117648.0  181.056243        NaN\n",
      "494  495    NaN  55.0   60864.0  182.079665  71.311427\n",
      "495  496      M  52.0  143234.0  156.044812  66.805198\n",
      "498  499      F  40.0   72164.0  151.121012        NaN\n",
      "\n",
      "[209 rows x 6 columns]\n"
     ]
    }
   ],
   "source": [
    "# Subset data for individuals with age > 25 and income > 60000\n",
    "subset_age_income = df[(df['Age'] > 25) & (df['Income'] > 60000)]\n",
    "print(\"Subset of individuals with age > 25 and income > 60000:\\n\", subset_age_income)"
   ]
  },
  {
   "cell_type": "code",
   "execution_count": 31,
   "metadata": {
    "colab": {
     "base_uri": "https://localhost:8080/"
    },
    "id": "5hAbiUBj5sVA",
    "outputId": "df55d461-1d2c-466c-b317-4504c683b62d"
   },
   "outputs": [
    {
     "name": "stdout",
     "output_type": "stream",
     "text": [
      "Subset of individuals with age <= 25:\n",
      "       Id Gender   Age    Income      Height     Weight\n",
      "1      2      F  18.0   82523.0  189.533369  72.400692\n",
      "11    12      M  21.0  134072.0  188.650997  52.732921\n",
      "12    13    NaN  19.0       NaN  173.446142  61.146883\n",
      "15    16    NaN  23.0   52297.0  171.859691  85.833607\n",
      "16    17    NaN  23.0  126215.0  185.392064  81.741455\n",
      "..   ...    ...   ...       ...         ...        ...\n",
      "464  465    NaN   NaN       NaN  175.017878        NaN\n",
      "474  475      F   NaN       NaN  187.281876  92.718267\n",
      "479  480    NaN  22.0  140959.0  189.221855  94.844926\n",
      "482  483    NaN  21.0   25786.0  155.483269  55.226594\n",
      "496  497      M   NaN   56023.0  159.155331  80.400186\n",
      "\n",
      "[126 rows x 6 columns]\n"
     ]
    }
   ],
   "source": [
    "# Subset data for individuals with age <= 25\n",
    "subset_age_le_25 = df[~(df['Age'] > 25)]\n",
    "print(\"Subset of individuals with age <= 25:\\n\", subset_age_le_25)"
   ]
  },
  {
   "cell_type": "code",
   "execution_count": 32,
   "metadata": {
    "colab": {
     "base_uri": "https://localhost:8080/"
    },
    "id": "FXbh_nv56dDV",
    "outputId": "e5329511-b462-4384-d492-2a02895924c3"
   },
   "outputs": [
    {
     "name": "stdout",
     "output_type": "stream",
     "text": [
      "165\n",
      "165\n"
     ]
    }
   ],
   "source": [
    "new = df[~df['Gender'].isin(['M', 'F'])]\n",
    "print(len(new))\n",
    "\n",
    "print(sum(df['Gender'].isnull()))"
   ]
  },
  {
   "cell_type": "code",
   "execution_count": 33,
   "metadata": {
    "colab": {
     "base_uri": "https://localhost:8080/"
    },
    "id": "RMZ49VXH8o4D",
    "outputId": "b7130cf9-9760-40aa-fbd5-1fb415fd7ad3"
   },
   "outputs": [
    {
     "name": "stdout",
     "output_type": "stream",
     "text": [
      "Subset of data with 'Gender' values 'M' or 'F':\n",
      "       Id Gender   Age    Income      Height     Weight\n",
      "0      1      M  64.0   24141.0         NaN  91.026092\n",
      "1      2      F  18.0   82523.0  189.533369  72.400692\n",
      "3      4      F  47.0   83622.0  189.395822  63.506353\n",
      "4      5      M  43.0  120475.0  155.234732  85.101889\n",
      "5      6      M  62.0  120535.0  179.602918  76.109803\n",
      "..   ...    ...   ...       ...         ...        ...\n",
      "492  493      M  58.0   21617.0  178.247016  96.618002\n",
      "493  494      F  34.0   28917.0  150.552383  95.738284\n",
      "495  496      M  52.0  143234.0  156.044812  66.805198\n",
      "496  497      M   NaN   56023.0  159.155331  80.400186\n",
      "498  499      F  40.0   72164.0  151.121012        NaN\n",
      "\n",
      "[335 rows x 6 columns]\n"
     ]
    }
   ],
   "source": [
    "# Subsetting data using isin() function\n",
    "subset_gender = df[df['Gender'].isin(['M', 'F'])]\n",
    "print(\"Subset of data with 'Gender' values 'M' or 'F':\\n\", subset_gender)"
   ]
  },
  {
   "cell_type": "code",
   "execution_count": 34,
   "metadata": {
    "colab": {
     "base_uri": "https://localhost:8080/"
    },
    "id": "PrQxp-RS9fdK",
    "outputId": "d48089ad-dc32-4b10-89c5-2c667ced264b"
   },
   "outputs": [
    {
     "name": "stdout",
     "output_type": "stream",
     "text": [
      "Subset of data with missing 'Age' values:\n",
      "       Id Gender  Age    Income      Height     Weight\n",
      "34    35      M  NaN       NaN         NaN  77.748112\n",
      "48    49      M  NaN   80545.0  160.882447  84.132224\n",
      "49    50      M  NaN   84812.0  181.811067  50.797431\n",
      "62    63      F  NaN       NaN  160.336857  68.404654\n",
      "76    77      M  NaN   96922.0  150.758791  51.762343\n",
      "81    82    NaN  NaN   85039.0  176.034126  82.357999\n",
      "89    90    NaN  NaN  104684.0  151.599414  75.361666\n",
      "91    92      F  NaN  144675.0  180.480869  56.129768\n",
      "97    98      M  NaN  120095.0         NaN  89.292180\n",
      "100  101    NaN  NaN   41682.0  154.944984  74.792711\n",
      "121  122      M  NaN   35769.0  184.735616  68.987392\n",
      "133  134    NaN  NaN       NaN  155.219858  79.753255\n",
      "138  139    NaN  NaN       NaN  156.132598  96.430512\n",
      "162  163    NaN  NaN   49601.0  169.890227  79.864129\n",
      "193  194      M  NaN   76822.0  166.203285  77.342092\n",
      "202  203      M  NaN  119766.0  162.412929  57.717951\n",
      "203  204      M  NaN   80392.0  170.627908  61.763551\n",
      "210  211      M  NaN  113168.0  183.899399  71.579327\n",
      "219  220      F  NaN   77596.0  153.521195  62.904493\n",
      "220  221    NaN  NaN  129430.0  167.199851  93.101603\n",
      "223  224    NaN  NaN   30801.0  175.264463  88.145407\n",
      "238  239    NaN  NaN  102611.0  174.147723  55.616176\n",
      "255  256      F  NaN   83908.0  157.554053  54.634387\n",
      "271  272      F  NaN   49065.0  181.625893  74.605277\n",
      "272  273    NaN  NaN       NaN  152.807157  96.816610\n",
      "281  282    NaN  NaN   60279.0         NaN  81.312038\n",
      "290  291      M  NaN   89502.0  174.836518  82.937369\n",
      "316  317      F  NaN   82987.0  167.628493  67.210730\n",
      "319  320    NaN  NaN  102117.0  165.753825  64.207305\n",
      "321  322      F  NaN  139531.0  180.007736  88.907256\n",
      "334  335    NaN  NaN       NaN  178.593802  53.304731\n",
      "342  343      M  NaN       NaN  165.102111  91.182177\n",
      "346  347      F  NaN   53110.0  167.865724  76.519264\n",
      "355  356    NaN  NaN  133845.0  159.094024        NaN\n",
      "356  357      F  NaN  100898.0  163.542035        NaN\n",
      "357  358      F  NaN   84165.0  182.256283  69.795188\n",
      "364  365    NaN  NaN  100522.0  164.999876  72.985489\n",
      "378  379      M  NaN   69210.0  168.582980  52.332044\n",
      "382  383      M  NaN  117875.0  156.047811  66.995308\n",
      "405  406    NaN  NaN   39802.0  174.895440  59.406596\n",
      "409  410    NaN  NaN       NaN  185.328497  96.835473\n",
      "411  412      M  NaN   55171.0         NaN  57.325667\n",
      "426  427      F  NaN       NaN  154.711862  98.956591\n",
      "436  437    NaN  NaN  124801.0  167.403461        NaN\n",
      "439  440      F  NaN  101767.0  158.982296  62.287663\n",
      "464  465    NaN  NaN       NaN  175.017878        NaN\n",
      "474  475      F  NaN       NaN  187.281876  92.718267\n",
      "496  497      M  NaN   56023.0  159.155331  80.400186\n"
     ]
    }
   ],
   "source": [
    "# Subsetting data using isnull() function\n",
    "subset_missing_age = df[df['Age'].isnull()]\n",
    "print(\"Subset of data with missing 'Age' values:\\n\", subset_missing_age)\n"
   ]
  },
  {
   "cell_type": "code",
   "execution_count": null,
   "metadata": {},
   "outputs": [],
   "source": []
  }
 ],
 "metadata": {
  "colab": {
   "provenance": []
  },
  "kernelspec": {
   "display_name": "Python 3 (ipykernel)",
   "language": "python",
   "name": "python3"
  },
  "language_info": {
   "codemirror_mode": {
    "name": "ipython",
    "version": 3
   },
   "file_extension": ".py",
   "mimetype": "text/x-python",
   "name": "python",
   "nbconvert_exporter": "python",
   "pygments_lexer": "ipython3",
   "version": "3.9.6"
  }
 },
 "nbformat": 4,
 "nbformat_minor": 4
}
