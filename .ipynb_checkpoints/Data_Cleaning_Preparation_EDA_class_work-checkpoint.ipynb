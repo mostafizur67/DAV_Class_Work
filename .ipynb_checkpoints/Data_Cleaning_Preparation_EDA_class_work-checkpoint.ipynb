{
 "cells": [
  {
   "cell_type": "markdown",
   "id": "0d9f7378-e448-48c7-a71e-6f8c2bc57a3a",
   "metadata": {},
   "source": [
    "# Data Cleaning and Preparation Examples"
   ]
  },
  {
   "cell_type": "markdown",
   "id": "2061804c-b931-4083-8e3d-64485dd0de17",
   "metadata": {
    "jp-MarkdownHeadingCollapsed": true
   },
   "source": [
    "## Handling Missing Values"
   ]
  },
  {
   "cell_type": "code",
   "execution_count": 5,
   "id": "31e1dece-1331-4472-849f-48f3dd358422",
   "metadata": {},
   "outputs": [
    {
     "name": "stdout",
     "output_type": "stream",
     "text": [
      "Dataframe before Filling Missing Values:\n",
      "      A   B\n",
      "0  1.0  10\n",
      "1  2.0  20\n",
      "2  NaN  30\n",
      "3  4.0  40\n",
      "4  5.0  50\n",
      "DataFrame with Missing Values Filled:\n",
      "      A   B\n",
      "0  1.0  10\n",
      "1  2.0  20\n",
      "2  0.0  30\n",
      "3  4.0  40\n",
      "4  5.0  50\n"
     ]
    }
   ],
   "source": [
    "import pandas as pd\n",
    "import numpy as np\n",
    "\n",
    "# Creating a DataFrame with missing values\n",
    "data = {\n",
    "    'A': [1, 2, np.nan, 4, 5],\n",
    "    'B': [10, 20, 30, 40, 50]\n",
    "}\n",
    "df = pd.DataFrame(data)\n",
    "\n",
    "# Before filling missing value\n",
    "print(\"DataFrame before Filling Missing Values:\\n\",df)\n",
    "\n",
    "# Filling missing values with 0\n",
    "df_filled = df.fillna(0)\n",
    "\n",
    "print(\"DataFrame with Missing Values Filled:\\n\", df_filled)"
   ]
  },
  {
   "cell_type": "markdown",
   "id": "3591bad9-bddd-4365-bb01-2d33b1ae9604",
   "metadata": {
    "jp-MarkdownHeadingCollapsed": true
   },
   "source": [
    "## Handling Outliers"
   ]
  },
  {
   "cell_type": "code",
   "execution_count": 6,
   "id": "aff11c9d-b8e2-4ae8-8ded-0e2822146287",
   "metadata": {},
   "outputs": [
    {
     "name": "stdout",
     "output_type": "stream",
     "text": [
      "DataFrame with Outliers:\n",
      "    A    B\n",
      "0  1   10\n",
      "1  2   20\n",
      "2  3   30\n",
      "3  4  200\n",
      "4  5   50\n",
      "DataFrame with Outliers Removed:\n",
      "    A   B\n",
      "0  1  10\n",
      "1  2  20\n",
      "2  3  30\n",
      "4  5  50\n"
     ]
    }
   ],
   "source": [
    "import pandas as pd\n",
    "\n",
    "# Creating a DataFrame with outliers\n",
    "data = {\n",
    "    'A': [1, 2, 3, 4, 5],\n",
    "    'B': [10, 20, 30, 200, 50]\n",
    "}\n",
    "df = pd.DataFrame(data)\n",
    "\n",
    "# Main Dataframe with Outliers\n",
    "print(\"DataFrame with Outliers:\\n\", df)\n",
    "\n",
    "# Identifying and handling outliers\n",
    "q1 = df['B'].quantile(0.25)\n",
    "q3 = df['B'].quantile(0.75)\n",
    "iqr = q3 - q1\n",
    "lower_bound = q1 - 1.5 * iqr\n",
    "upper_bound = q3 + 1.5 * iqr\n",
    "df_no_outliers = df[(df['B'] >= lower_bound) & (df['B'] <= upper_bound)]\n",
    "\n",
    "print(\"DataFrame with Outliers Removed:\\n\", df_no_outliers)"
   ]
  },
  {
   "cell_type": "markdown",
   "id": "8c5ee003-4d88-4d2a-b343-4fba66c0e752",
   "metadata": {
    "jp-MarkdownHeadingCollapsed": true
   },
   "source": [
    "## Dealing with Duplicate Data"
   ]
  },
  {
   "cell_type": "code",
   "execution_count": 10,
   "id": "5829c2c0-40ec-4e42-89e5-a4793719b523",
   "metadata": {},
   "outputs": [
    {
     "name": "stdout",
     "output_type": "stream",
     "text": [
      "DataFrame with Duplicates:\n",
      "    A   B\n",
      "0  1  10\n",
      "1  2  20\n",
      "2  2  20\n",
      "3  3  30\n",
      "4  4  40\n",
      "5  4  40\n",
      "Duplicated Rows:\n",
      "    A   B\n",
      "2  2  20\n",
      "5  4  40\n",
      "DataFrame after Dropping Duplicates:\n",
      "    A   B\n",
      "0  1  10\n",
      "1  2  20\n",
      "3  3  30\n",
      "4  4  40\n"
     ]
    }
   ],
   "source": [
    "import pandas as pd\n",
    "\n",
    "# Creating a DataFrame with duplicate data\n",
    "data = {\n",
    "    'A': [1, 2, 2, 3, 4, 4],\n",
    "    'B': [10, 20, 20, 30, 40, 40]\n",
    "}\n",
    "duplicate_df = pd.DataFrame(data)\n",
    "\n",
    "# Main DataFrame with duplicate data\n",
    "print(\"DataFrame with Duplicates:\\n\", duplicate_df)\n",
    "\n",
    "# Detecting and removing duplicated rows\n",
    "duplicated_rows = duplicate_df[duplicate_df.duplicated()]\n",
    "deduplicated_df = duplicate_df.drop_duplicates()\n",
    "\n",
    "print(\"Duplicated Rows:\\n\", duplicated_rows)\n",
    "print(\"DataFrame after Dropping Duplicates:\\n\", deduplicated_df)"
   ]
  },
  {
   "cell_type": "markdown",
   "id": "05639997-f8a1-4019-8f6b-f6d43effd9d7",
   "metadata": {
    "jp-MarkdownHeadingCollapsed": true
   },
   "source": [
    "## Data Reshaping"
   ]
  },
  {
   "cell_type": "markdown",
   "id": "440da3e8-78e3-4cbc-a0b7-ad1a7a4bc524",
   "metadata": {},
   "source": [
    "### Wide to Long Format (Melting)"
   ]
  },
  {
   "cell_type": "code",
   "execution_count": 11,
   "id": "2ed83c13-22fc-46b1-911e-25a2b0549270",
   "metadata": {},
   "outputs": [
    {
     "name": "stdout",
     "output_type": "stream",
     "text": [
      "Original Wide DataFrmae:\n",
      "    ID  Math  Science\n",
      "0   1    90       75\n",
      "1   2    85       88\n",
      "2   3    78       92\n",
      "Long Format DataFrame:\n",
      "    ID  Subject  Score\n",
      "0   1     Math     90\n",
      "1   2     Math     85\n",
      "2   3     Math     78\n",
      "3   1  Science     75\n",
      "4   2  Science     88\n",
      "5   3  Science     92\n"
     ]
    }
   ],
   "source": [
    "import pandas as pd\n",
    "\n",
    "# Creating a Wide DataFrame\n",
    "data = {\n",
    "    'ID': [1, 2, 3],\n",
    "    'Math': [90, 85, 78],\n",
    "    'Science': [75, 88, 92]\n",
    "}\n",
    "df = pd.DataFrame(data)\n",
    "\n",
    "# Main Wide DataFrame\n",
    "print(\"Original Wide DataFrmae:\\n\", df)\n",
    "\n",
    "\n",
    "# Melting the DataFrame\n",
    "df_long = pd.melt(df, id_vars=['ID'], value_vars=['Math', 'Science'], var_name='Subject', value_name='Score')\n",
    "\n",
    "# After Melting the DataFrame\n",
    "print(\"Long Format DataFrame:\\n\", df_long)"
   ]
  },
  {
   "cell_type": "markdown",
   "id": "d6f1e92f-e7b4-4b5d-ae9f-0892043f8cee",
   "metadata": {},
   "source": [
    "### Long to Wide Format (Pivoting)"
   ]
  },
  {
   "cell_type": "code",
   "execution_count": 12,
   "id": "7b7672db-0b8d-4ddd-8f2c-bb4e375d6df1",
   "metadata": {},
   "outputs": [
    {
     "name": "stdout",
     "output_type": "stream",
     "text": [
      "Originial Long DataFrame:\n",
      "    ID  Subject  Score\n",
      "0   1     Math     90\n",
      "1   1  Science     75\n",
      "2   2     Math     85\n",
      "3   2  Science     88\n",
      "Wide Format DataFrame:\n",
      " Subject  Math  Science\n",
      "ID                    \n",
      "1          90       75\n",
      "2          85       88\n"
     ]
    }
   ],
   "source": [
    "import pandas as pd\n",
    "\n",
    "# Creating a Long DataFrame\n",
    "data = {\n",
    "    'ID': [1, 1, 2, 2],\n",
    "    'Subject': ['Math', 'Science', 'Math', 'Science'],\n",
    "    'Score': [90, 75, 85, 88]\n",
    "}\n",
    "df_long = pd.DataFrame(data)\n",
    "\n",
    "# Main Long DataFrame\n",
    "print(\"Originial Long DataFrame:\\n\", df_long)\n",
    "\n",
    "# Pivoting the DataFrame\n",
    "df_wide = df_long.pivot(index='ID', columns='Subject', values='Score')\n",
    "print(\"Wide Format DataFrame:\\n\", df_wide)"
   ]
  },
  {
   "cell_type": "markdown",
   "id": "d152f631-9ea4-44cf-bbdb-ad93eec3a2db",
   "metadata": {},
   "source": [
    "### Stacking and Unstacking"
   ]
  },
  {
   "cell_type": "code",
   "execution_count": 13,
   "id": "a3fb57a7-d038-4805-8510-7ced895c23bc",
   "metadata": {},
   "outputs": [
    {
     "name": "stdout",
     "output_type": "stream",
     "text": [
      "Original DataFrame:\n",
      "    ID  Math  Science\n",
      "0   1    90       75\n",
      "1   2    85       88\n",
      "Stacked DataFrame:\n",
      " ID         \n",
      "1   Math       90\n",
      "    Science    75\n",
      "2   Math       85\n",
      "    Science    88\n",
      "dtype: int64\n",
      "Unstacked DataFrame:\n",
      "     Math  Science\n",
      "ID               \n",
      "1     90       75\n",
      "2     85       88\n"
     ]
    }
   ],
   "source": [
    "import pandas as pd\n",
    "\n",
    "# Creating a DataFrame\n",
    "data = {\n",
    "    'ID': [1, 2],\n",
    "    'Math': [90, 85],\n",
    "    'Science': [75, 88]\n",
    "}\n",
    "df = pd.DataFrame(data)\n",
    "\n",
    "# Original DataFrame\n",
    "print(\"Original DataFrame:\\n\", df)\n",
    "\n",
    "# Set the DataFrame index using the ID column\n",
    "df.set_index('ID', inplace=True)\n",
    "\n",
    "# Doing Stacking and Unstacking\n",
    "stacked_df = df.stack()\n",
    "unstacked_df = stacked_df.unstack()\n",
    "print(\"Stacked DataFrame:\\n\", stacked_df)\n",
    "print(\"Unstacked DataFrame:\\n\", unstacked_df)"
   ]
  },
  {
   "cell_type": "markdown",
   "id": "fe0eb3c8-8f61-407d-8224-8ea10becaead",
   "metadata": {
    "jp-MarkdownHeadingCollapsed": true
   },
   "source": [
    "## Handling Inconsistent Data and Standardizing"
   ]
  },
  {
   "cell_type": "code",
   "execution_count": 8,
   "id": "e7a87c97-7d8a-4d86-89ee-c53910e12522",
   "metadata": {},
   "outputs": [
    {
     "name": "stdout",
     "output_type": "stream",
     "text": [
      "Original DataFrame:\n",
      "    ID  Gender\n",
      "0   1    Male\n",
      "1   2  female\n",
      "2   3    Male\n",
      "3   4  Female\n",
      "DataFrame with Consistent Gender Values:\n",
      "    ID  Gender\n",
      "0   1    Male\n",
      "1   2  Female\n",
      "2   3    Male\n",
      "3   4  Female\n"
     ]
    }
   ],
   "source": [
    "import pandas as pd\n",
    "\n",
    "# Creating a DataFrame\n",
    "data = {\n",
    "    'ID': [1, 2, 3, 4],\n",
    "    'Gender': ['Male', 'female', 'Male', 'Female']\n",
    "}\n",
    "df = pd.DataFrame(data)\n",
    "\n",
    "# Original DataFrame\n",
    "print(\"Original DataFrame:\\n\", df)\n",
    "\n",
    "# Convert gender values to lowercase and standardize\n",
    "df['Gender'] = df['Gender'].str.lower().replace({'male': 'Male', 'female': 'Female'})\n",
    "\n",
    "print(\"DataFrame with Consistent Gender Values:\\n\", df)"
   ]
  },
  {
   "cell_type": "code",
   "execution_count": 7,
   "id": "892bab33-65e6-4bae-bd29-a4d24a75bb2c",
   "metadata": {},
   "outputs": [
    {
     "name": "stdout",
     "output_type": "stream",
     "text": [
      "Original DataFrame:\n",
      "    ID    Color\n",
      "0   1      red\n",
      "1   2    green\n",
      "2   3     blue\n",
      "3   4    green\n",
      "4   5  Reddish\n",
      "DataFrame with Consistent Color Names:\n",
      "    ID  Color\n",
      "0   1    Red\n",
      "1   2  Green\n",
      "2   3   Blue\n",
      "3   4  Green\n",
      "4   5    Red\n"
     ]
    }
   ],
   "source": [
    "import pandas as pd\n",
    "\n",
    "# Creating a DataFrame\n",
    "data = {\n",
    "    'ID': [1, 2, 3, 4, 5],\n",
    "    'Color': ['red', 'green', 'blue', 'green', 'Reddish']\n",
    "}\n",
    "df = pd.DataFrame(data)\n",
    "\n",
    "# Original DataFrame\n",
    "print(\"Original DataFrame:\\n\", df)\n",
    "\n",
    "# Define a mapping for inconsistent color names to standard names\n",
    "color_mapping = {\n",
    "    'red': 'Red',\n",
    "    'green': 'Green',\n",
    "    'blue': 'Blue',\n",
    "    'reddish': 'Red'  # Handling a synonym\n",
    "}\n",
    "\n",
    "# Apply the mapping to the Color column\n",
    "df['Color'] = df['Color'].str.lower().map(color_mapping)\n",
    "\n",
    "print(\"DataFrame with Consistent Color Names:\\n\", df)"
   ]
  },
  {
   "cell_type": "markdown",
   "id": "cc508053-54b3-43df-bbe5-3f47cc6fb0e3",
   "metadata": {},
   "source": [
    "# EDA Examples"
   ]
  },
  {
   "cell_type": "markdown",
   "id": "1d60d81a-af1d-487e-a688-6cd472f1affe",
   "metadata": {
    "jp-MarkdownHeadingCollapsed": true
   },
   "source": [
    "## Univariate Analysis: Understanding the Essence of Individual Variables"
   ]
  },
  {
   "cell_type": "code",
   "execution_count": 4,
   "id": "3d8d70ea-6191-4b6f-b8d2-b7fa711a4596",
   "metadata": {},
   "outputs": [
    {
     "data": {
      "image/png": "[encoded data removed]",
      "text/plain": [
       "<Figure size 640x480 with 1 Axes>"
      ]
     },
     "metadata": {},
     "output_type": "display_data"
    },
    {
     "name": "stdout",
     "output_type": "stream",
     "text": [
      "Exam Scores:\n",
      "      Name  Exam_Score\n",
      "0    Alice          85\n",
      "1      Bob          72\n",
      "2  Charlie          90\n",
      "3    David          78\n",
      "4     Emma          92\n",
      "\n",
      "Basic Statistics:\n",
      "Mean Score: 83.4\n",
      "Median Score: 85.0\n",
      "Standard Deviation: 8.35463942968217\n",
      "Minimum Score: 72\n",
      "Maximum Score: 92\n",
      "\n",
      "Score Distribution:\n",
      "Exam_Score\n",
      "(70.0, 80.0]      2\n",
      "(80.0, 90.0]      2\n",
      "(90.0, 100.0]     1\n",
      "(-0.001, 60.0]    0\n",
      "(60.0, 70.0]      0\n",
      "Name: count, dtype: int64\n",
      "\n",
      "Percentage Distribution:\n",
      "Exam_Score\n",
      "(70.0, 80.0]      40.0\n",
      "(80.0, 90.0]      40.0\n",
      "(90.0, 100.0]     20.0\n",
      "(-0.001, 60.0]     0.0\n",
      "(60.0, 70.0]       0.0\n",
      "Name: count, dtype: float64\n"
     ]
    }
   ],
   "source": [
    "import pandas as pd\n",
    "import matplotlib.pyplot as plt\n",
    "\n",
    "# Create a sample dataset of exam scores\n",
    "data = {'Name': ['Alice', 'Bob', 'Charlie', 'David', 'Emma'],\n",
    "        'Exam_Score': [85, 72, 90, 78, 92]}\n",
    "df = pd.DataFrame(data)\n",
    "\n",
    "# Calculate basic statistics for exam scores\n",
    "mean_score = df['Exam_Score'].mean()\n",
    "median_score = df['Exam_Score'].median()\n",
    "std_deviation = df['Exam_Score'].std()\n",
    "min_score = df['Exam_Score'].min()\n",
    "max_score = df['Exam_Score'].max()\n",
    "\n",
    "# Create a histogram to visualize score distribution\n",
    "plt.hist(df['Exam_Score'], bins=10, edgecolor='black')\n",
    "plt.title('Exam Score Distribution')\n",
    "plt.xlabel('Score')\n",
    "plt.ylabel('Frequency')\n",
    "plt.show()\n",
    "\n",
    "# Calculate count and percentages for different score ranges\n",
    "score_ranges = [0, 60, 70, 80, 90, 100]\n",
    "score_counts = pd.cut(df['Exam_Score'], score_ranges, include_lowest=True).value_counts()\n",
    "score_percentages = (score_counts / len(df)) * 100\n",
    "\n",
    "# Display the results\n",
    "print(\"Exam Scores:\")\n",
    "print(df)\n",
    "print(\"\\nBasic Statistics:\")\n",
    "print(\"Mean Score:\", mean_score)\n",
    "print(\"Median Score:\", median_score)\n",
    "print(\"Standard Deviation:\", std_deviation)\n",
    "print(\"Minimum Score:\", min_score)\n",
    "print(\"Maximum Score:\", max_score)\n",
    "print(\"\\nScore Distribution:\")\n",
    "print(score_counts)\n",
    "print(\"\\nPercentage Distribution:\")\n",
    "print(score_percentages)"
   ]
  },
  {
   "cell_type": "markdown",
   "id": "7c70ddef-8fd0-40dd-8284-f011e59445a7",
   "metadata": {
    "jp-MarkdownHeadingCollapsed": true
   },
   "source": [
    "## Bivariate Analysis: Discovering Relationships Between Variables"
   ]
  },
  {
   "cell_type": "code",
   "execution_count": 3,
   "id": "7d036881-f652-4a60-8a2b-6ee01c8bbbc1",
   "metadata": {},
   "outputs": [
    {
     "data": {
      "image/png": "[encoded data removed]",
      "text/plain": [
       "<Figure size 640x480 with 1 Axes>"
      ]
     },
     "metadata": {},
     "output_type": "display_data"
    },
    {
     "name": "stdout",
     "output_type": "stream",
     "text": [
      "Correlation between Height and Weight: 0.9682681701295192\n"
     ]
    }
   ],
   "source": [
    "import pandas as pd\n",
    "import matplotlib.pyplot as plt\n",
    "import seaborn as sns\n",
    "\n",
    "# Create a sample dataset of heights and weights\n",
    "data = {'Height (inches)': [65, 68, 70, 61, 72, 63, 67, 66, 69, 71],\n",
    "        'Weight (lbs)': [150, 160, 180, 130, 200, 140, 155, 148, 170, 190]}\n",
    "df = pd.DataFrame(data)\n",
    "\n",
    "# Calculate the correlation between height and weight\n",
    "correlation = df['Height (inches)'].corr(df['Weight (lbs)'])\n",
    "\n",
    "# Create a scatter plot to visualize the relationship\n",
    "sns.scatterplot(data=df, x='Height (inches)', y='Weight (lbs)')\n",
    "plt.title('Height vs Weight')\n",
    "plt.xlabel('Height (inches)')\n",
    "plt.ylabel('Weight (lbs)')\n",
    "plt.show()\n",
    "\n",
    "# Display the correlation coefficient\n",
    "print(\"Correlation between Height and Weight:\", correlation)"
   ]
  }
 ],
 "metadata": {
  "kernelspec": {
   "display_name": "Python 3 (ipykernel)",
   "language": "python",
   "name": "python3"
  },
  "language_info": {
   "codemirror_mode": {
    "name": "ipython",
    "version": 3
   },
   "file_extension": ".py",
   "mimetype": "text/x-python",
   "name": "python",
   "nbconvert_exporter": "python",
   "pygments_lexer": "ipython3",
   "version": "3.9.6"
  }
 },
 "nbformat": 4,
 "nbformat_minor": 5
}
