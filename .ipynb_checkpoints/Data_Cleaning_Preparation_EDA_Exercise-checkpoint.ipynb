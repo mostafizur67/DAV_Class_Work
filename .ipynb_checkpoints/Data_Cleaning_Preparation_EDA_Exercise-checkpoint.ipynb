{
 "cells": [
  {
   "cell_type": "raw",
   "id": "17178b7a-b989-4b69-bc46-fbd5e1365cd5",
   "metadata": {},
   "source": [
    "# Data Cleaning, Preparation, and EDA Solution"
   ]
  },
  {
   "cell_type": "markdown",
   "id": "77e57b81-244d-4dc7-9fc2-3a07cd87e49c",
   "metadata": {},
   "source": [
    "#### Question 1: Import appropriate package and load the dataset"
   ]
  },
  {
   "cell_type": "code",
   "execution_count": 2,
   "id": "301d1d57-6f2e-4793-82d5-4acb8453f094",
   "metadata": {},
   "outputs": [],
   "source": [
    "\n",
    "import numpy as np\n",
    "import os\n",
    "\n",
    "# Load your dataset (replace 'your_dataset.csv' with the actual file path)\n",
    "df = "
   ]
  },
  {
   "cell_type": "markdown",
   "id": "94bcc0df-e1d2-4e5e-9915-c8a0d14c9a40",
   "metadata": {},
   "source": [
    "#### Question 2: Complete the 'handle_missing_values' function to handel missing values in the dataset"
   ]
  },
  {
   "cell_type": "code",
   "execution_count": 3,
   "id": "18b17a27-c35d-4f4e-b535-708942e8dde4",
   "metadata": {},
   "outputs": [],
   "source": [
    "# Function to handle missing values for both text and numeric columns\n",
    "def handle_missing_values(df):\n",
    "    df_filled = df.copy()\n",
    "    \n",
    "    return df_filled"
   ]
  },
  {
   "cell_type": "markdown",
   "id": "cb6889d2-aa3a-4d81-87f9-3d95d824bde6",
   "metadata": {},
   "source": [
    "#### Question 3: Complete the 'handle_outliers' function to remove duplicates in the dataset"
   ]
  },
  {
   "cell_type": "code",
   "execution_count": 4,
   "id": "3e5ce67d-5153-445f-8af2-22424dc38b5e",
   "metadata": {},
   "outputs": [],
   "source": [
    "# Function to handle outliers for numeric columns\n",
    "def handle_outliers(df):\n",
    "    df_outliers_removed = df.copy()\n",
    "    \n",
    "    return df_outliers_removed"
   ]
  },
  {
   "cell_type": "markdown",
   "id": "f1fc8717-0d07-472b-a1eb-6dabe2d924ec",
   "metadata": {},
   "source": [
    "#### Question 4: Complete the 'handle_duplicates' function to handel outliers in the dataset"
   ]
  },
  {
   "cell_type": "code",
   "execution_count": 5,
   "id": "33d380d0-9a15-4c84-9342-b93adbd02340",
   "metadata": {},
   "outputs": [],
   "source": [
    "# Function to handle duplicates\n",
    "def handle_duplicates(df):\n",
    "    \n",
    "    return df_deduplicated"
   ]
  },
  {
   "cell_type": "markdown",
   "id": "6028c285-2008-4858-9dbe-7db63942541f",
   "metadata": {},
   "source": [
    "#### Question 5: Complete the 'standardize_data' function to standardizes the 'Gender' column in the dataset"
   ]
  },
  {
   "cell_type": "code",
   "execution_count": 7,
   "id": "0c818c9f-9aef-41cd-b4f8-e69b202798dc",
   "metadata": {},
   "outputs": [],
   "source": [
    "# Function to address inconsistency and standardize data\n",
    "def standardize_data(df):\n",
    "    df_standardized = df.copy()\n",
    "    \n",
    "    return df_standardized"
   ]
  },
  {
   "cell_type": "markdown",
   "id": "b68bc679-dd7e-4d13-9c67-a22ec2555abc",
   "metadata": {},
   "source": [
    "#### Question 6: Complete the 'univariate_analysis' to calculate basic summary statistics and create a histogram to visualize the 'Age' distribution."
   ]
  },
  {
   "cell_type": "code",
   "execution_count": 8,
   "id": "d2599cea-13c4-4a3a-b4c3-58d5c04ead6d",
   "metadata": {},
   "outputs": [],
   "source": [
    "import matplotlib.pyplot as plt\n",
    "\n",
    "# Function to do univariate analysis\n",
    "def univariate_analysis(df):\n",
    "\n",
    "    # Calculate summary statistics\n",
    "    age_summary = \n",
    "    print(\"Summary Statistics for Age:\\n\", age_summary)\n",
    "    \n",
    "    # Create a histogram\n",
    "    plt.figure(figsize=(8, 6))\n",
    "    plt.hist()\n",
    "    plt.title('Age Distribution')\n",
    "    plt.xlabel('Age')\n",
    "    plt.ylabel('Frequency')\n",
    "    plt.show()\n"
   ]
  },
  {
   "cell_type": "markdown",
   "id": "fd293383-04b7-4158-b001-a30d820bcdea",
   "metadata": {},
   "source": [
    "#### Question 7: Complete the 'bivariate_analysis' to perform a bivariate analysis to explore the relationship between 'BMI' and 'Age'. Create a scatter plot to visualize how these two variables are related."
   ]
  },
  {
   "cell_type": "code",
   "execution_count": 9,
   "id": "77ef4303-0f67-421f-a2bc-fcb16b08d41c",
   "metadata": {},
   "outputs": [],
   "source": [
    "import matplotlib.pyplot as plt\n",
    "import seaborn as sns\n",
    "\n",
    "# Function to do bivariate analysis\n",
    "def bivariate_analysis(df):\n",
    "    # Create a scatter plot\n",
    "    plt.figure(figsize=(8, 6))\n",
    "    sns.scatterplot()\n",
    "    plt.title('Scatter Plot: BMI vs Age')\n",
    "    plt.xlabel('BMI')\n",
    "    plt.ylabel('Age')\n",
    "    plt.show()\n"
   ]
  },
  {
   "cell_type": "markdown",
   "id": "46f21869-27bd-4b11-93bd-551d43b36492",
   "metadata": {},
   "source": [
    "#### Main Program"
   ]
  },
  {
   "cell_type": "code",
   "execution_count": null,
   "id": "3c71d761-9b2f-4421-8eee-af2d584d14a8",
   "metadata": {},
   "outputs": [],
   "source": [
    "if __name__ == \"__main__\":\n",
    "    df_filled = handle_missing_values(df)\n",
    "    df_outliers_removed = handle_outliers(df_filled)\n",
    "    df_deduplicated = handle_duplicates(df_outliers_removed)\n",
    "    \n",
    "    # df_reshaped = reshape_data(df_deduplicated)\n",
    "    df_standardized = standardize_data(df_deduplicated)\n",
    "\n",
    "    # Call EDA functions\n",
    "    univariate_analysis(df_standardized)\n",
    "    bivariate_analysis(df_standardized)\n",
    "\n",
    "    # Save the cleaned and processed DataFrame to a CSV file\n",
    "    output_folder_path = '/Users/mrahman-admin/Desktop/Data_Analytics_Visualization/DAV_EDA_Soln'\n",
    "    output_file = os.path.join(output_folder_path, 'Data_Cleaning_and_Preparation_Cleaned_dataset.csv')\n",
    "    \n",
    "    df_standardized.to_csv(output_file, index=False)\n",
    "\n",
    "    print(\"Cleaned and processed dataset saved as 'cleaned_dataset.csv'\")"
   ]
  }
 ],
 "metadata": {
  "kernelspec": {
   "display_name": "Python 3 (ipykernel)",
   "language": "python",
   "name": "python3"
  },
  "language_info": {
   "codemirror_mode": {
    "name": "ipython",
    "version": 3
   },
   "file_extension": ".py",
   "mimetype": "text/x-python",
   "name": "python",
   "nbconvert_exporter": "python",
   "pygments_lexer": "ipython3",
   "version": "3.9.6"
  }
 },
 "nbformat": 4,
 "nbformat_minor": 5
}
